{
  "nbformat": 4,
  "nbformat_minor": 0,
  "metadata": {
    "colab": {
      "name": "hbos_SabyasachiDatta_OPD2009.ipynb",
      "provenance": [],
      "collapsed_sections": []
    },
    "kernelspec": {
      "name": "python3",
      "display_name": "Python 3"
    },
    "language_info": {
      "name": "python"
    }
  },
  "cells": [
    {
      "cell_type": "code",
      "metadata": {
        "id": "UlD6-56pwQXd"
      },
      "source": [
        "from sklearn.datasets import load_iris\n",
        "import pandas as pd\n",
        "import numpy as np\n",
        "import matplotlib.pyplot as plt"
      ],
      "execution_count": 59,
      "outputs": []
    },
    {
      "cell_type": "code",
      "metadata": {
        "id": "HICN7cx8w6zu"
      },
      "source": [
        "data = load_iris().data"
      ],
      "execution_count": 60,
      "outputs": []
    },
    {
      "cell_type": "code",
      "metadata": {
        "id": "xWouwc33x_Bu"
      },
      "source": [
        "names = ['sepal-length', 'sepal-width', 'petal-length', 'petal-width']"
      ],
      "execution_count": 61,
      "outputs": []
    },
    {
      "cell_type": "code",
      "metadata": {
        "id": "2ZVMF480yjiL"
      },
      "source": [
        "df = pd.DataFrame(data,columns=names)"
      ],
      "execution_count": 62,
      "outputs": []
    },
    {
      "cell_type": "code",
      "metadata": {
        "colab": {
          "base_uri": "https://localhost:8080/",
          "height": 402
        },
        "id": "Y3j4JG0dzpyV",
        "outputId": "09954c96-18a5-41b7-86ba-121e8ae3e36b"
      },
      "source": [
        "df"
      ],
      "execution_count": 101,
      "outputs": [
        {
          "output_type": "execute_result",
          "data": {
            "text/html": [
              "<div>\n",
              "<style scoped>\n",
              "    .dataframe tbody tr th:only-of-type {\n",
              "        vertical-align: middle;\n",
              "    }\n",
              "\n",
              "    .dataframe tbody tr th {\n",
              "        vertical-align: top;\n",
              "    }\n",
              "\n",
              "    .dataframe thead th {\n",
              "        text-align: right;\n",
              "    }\n",
              "</style>\n",
              "<table border=\"1\" class=\"dataframe\">\n",
              "  <thead>\n",
              "    <tr style=\"text-align: right;\">\n",
              "      <th></th>\n",
              "      <th>sepal-length</th>\n",
              "      <th>sepal-width</th>\n",
              "      <th>petal-length</th>\n",
              "      <th>petal-width</th>\n",
              "    </tr>\n",
              "  </thead>\n",
              "  <tbody>\n",
              "    <tr>\n",
              "      <th>0</th>\n",
              "      <td>5.1</td>\n",
              "      <td>3.5</td>\n",
              "      <td>1.4</td>\n",
              "      <td>0.2</td>\n",
              "    </tr>\n",
              "    <tr>\n",
              "      <th>1</th>\n",
              "      <td>4.9</td>\n",
              "      <td>3.0</td>\n",
              "      <td>1.4</td>\n",
              "      <td>0.2</td>\n",
              "    </tr>\n",
              "    <tr>\n",
              "      <th>2</th>\n",
              "      <td>4.7</td>\n",
              "      <td>3.2</td>\n",
              "      <td>1.3</td>\n",
              "      <td>0.2</td>\n",
              "    </tr>\n",
              "    <tr>\n",
              "      <th>3</th>\n",
              "      <td>4.6</td>\n",
              "      <td>3.1</td>\n",
              "      <td>1.5</td>\n",
              "      <td>0.2</td>\n",
              "    </tr>\n",
              "    <tr>\n",
              "      <th>4</th>\n",
              "      <td>5.0</td>\n",
              "      <td>3.6</td>\n",
              "      <td>1.4</td>\n",
              "      <td>0.2</td>\n",
              "    </tr>\n",
              "    <tr>\n",
              "      <th>...</th>\n",
              "      <td>...</td>\n",
              "      <td>...</td>\n",
              "      <td>...</td>\n",
              "      <td>...</td>\n",
              "    </tr>\n",
              "    <tr>\n",
              "      <th>145</th>\n",
              "      <td>6.7</td>\n",
              "      <td>3.0</td>\n",
              "      <td>5.2</td>\n",
              "      <td>2.3</td>\n",
              "    </tr>\n",
              "    <tr>\n",
              "      <th>146</th>\n",
              "      <td>6.3</td>\n",
              "      <td>2.5</td>\n",
              "      <td>5.0</td>\n",
              "      <td>1.9</td>\n",
              "    </tr>\n",
              "    <tr>\n",
              "      <th>147</th>\n",
              "      <td>6.5</td>\n",
              "      <td>3.0</td>\n",
              "      <td>5.2</td>\n",
              "      <td>2.0</td>\n",
              "    </tr>\n",
              "    <tr>\n",
              "      <th>148</th>\n",
              "      <td>6.2</td>\n",
              "      <td>3.4</td>\n",
              "      <td>5.4</td>\n",
              "      <td>2.3</td>\n",
              "    </tr>\n",
              "    <tr>\n",
              "      <th>149</th>\n",
              "      <td>5.9</td>\n",
              "      <td>3.0</td>\n",
              "      <td>5.1</td>\n",
              "      <td>1.8</td>\n",
              "    </tr>\n",
              "  </tbody>\n",
              "</table>\n",
              "<p>150 rows × 4 columns</p>\n",
              "</div>"
            ],
            "text/plain": [
              "     sepal-length  sepal-width  petal-length  petal-width\n",
              "0             5.1          3.5           1.4          0.2\n",
              "1             4.9          3.0           1.4          0.2\n",
              "2             4.7          3.2           1.3          0.2\n",
              "3             4.6          3.1           1.5          0.2\n",
              "4             5.0          3.6           1.4          0.2\n",
              "..            ...          ...           ...          ...\n",
              "145           6.7          3.0           5.2          2.3\n",
              "146           6.3          2.5           5.0          1.9\n",
              "147           6.5          3.0           5.2          2.0\n",
              "148           6.2          3.4           5.4          2.3\n",
              "149           5.9          3.0           5.1          1.8\n",
              "\n",
              "[150 rows x 4 columns]"
            ]
          },
          "metadata": {
            "tags": []
          },
          "execution_count": 101
        }
      ]
    },
    {
      "cell_type": "code",
      "metadata": {
        "colab": {
          "base_uri": "https://localhost:8080/",
          "height": 381
        },
        "id": "uDnrgtf2zyT-",
        "outputId": "d8752ef6-1f0f-4cbe-dfe4-43941ebc8bc7"
      },
      "source": [
        "plt.figure(figsize=[10,10])\n",
        "f,a = plt.subplots(2,2)\n",
        "a = a.ravel()\n",
        "\n",
        "count = []\n",
        "binning = []\n",
        "# density=True - normaloize the histogram\n",
        "for id,ax in enumerate(a):\n",
        "    counts, bins, patches = ax.hist(dataset.iloc[:,id], bins=4,density=True, color='#0504aa',alpha=0.7, rwidth=0.85)\n",
        "    count.append(counts)\n",
        "    binning.append(bins)\n",
        "    print(counts, bins)\n",
        "    ax.set_title(dataset.columns[id])\n",
        "plt.tight_layout()"
      ],
      "execution_count": 102,
      "outputs": [
        {
          "output_type": "stream",
          "text": [
            "[0.3037037  0.35555556 0.35555556 0.0962963 ] [4.3 5.2 6.1 7.  7.9]\n",
            "[0.21111111 0.83333333 0.55555556 0.06666667] [2.  2.6 3.2 3.8 4.4]\n",
            "[0.2259887  0.04971751 0.27570621 0.12655367] [1.    2.475 3.95  5.425 6.9  ]\n",
            "[0.55555556 0.16666667 0.56666667 0.37777778] [0.1 0.7 1.3 1.9 2.5]\n"
          ],
          "name": "stdout"
        },
        {
          "output_type": "display_data",
          "data": {
            "text/plain": [
              "<Figure size 720x720 with 0 Axes>"
            ]
          },
          "metadata": {
            "tags": []
          }
        },
        {
          "output_type": "display_data",
          "data": {
            "image/png": "[encoded data removed]",
            "text/plain": [
              "<Figure size 432x288 with 4 Axes>"
            ]
          },
          "metadata": {
            "tags": [],
            "needs_background": "light"
          }
        }
      ]
    },
    {
      "cell_type": "code",
      "metadata": {
        "id": "C4hETldFJmIC"
      },
      "source": [
        "#count stores the bin frequency\n",
        "iris = pd.DataFrame()"
      ],
      "execution_count": 103,
      "outputs": []
    },
    {
      "cell_type": "code",
      "metadata": {
        "id": "ESKGpPmmIXz7"
      },
      "source": [
        "iris['sepal_newLenght'] = pd.cut(x=dataset['sepal_length'], bins=4, labels=count[0], include_lowest=True, ordered=False)\n",
        "iris['sepal_newWeight'] =  pd.cut(x=dataset['sepal_width'], bins=4, labels=count[1], include_lowest=True, ordered=False)\n",
        "iris['petal_newLenght'] = pd.cut(x=dataset['petal_length'], bins=4, labels=count[2], include_lowest=True, ordered=False)\n",
        "iris['petal_newWeight'] =  pd.cut(x=dataset['petal_width'], bins=4, labels=count[3], include_lowest=True, ordered=False)"
      ],
      "execution_count": 104,
      "outputs": []
    },
    {
      "cell_type": "code",
      "metadata": {
        "colab": {
          "base_uri": "https://localhost:8080/",
          "height": 402
        },
        "id": "ZxHnMghUpvsH",
        "outputId": "026ea55e-44f6-4beb-f4d4-29c266cff192"
      },
      "source": [
        "iris"
      ],
      "execution_count": 105,
      "outputs": [
        {
          "output_type": "execute_result",
          "data": {
            "text/html": [
              "<div>\n",
              "<style scoped>\n",
              "    .dataframe tbody tr th:only-of-type {\n",
              "        vertical-align: middle;\n",
              "    }\n",
              "\n",
              "    .dataframe tbody tr th {\n",
              "        vertical-align: top;\n",
              "    }\n",
              "\n",
              "    .dataframe thead th {\n",
              "        text-align: right;\n",
              "    }\n",
              "</style>\n",
              "<table border=\"1\" class=\"dataframe\">\n",
              "  <thead>\n",
              "    <tr style=\"text-align: right;\">\n",
              "      <th></th>\n",
              "      <th>sepal_newLenght</th>\n",
              "      <th>sepal_newWeight</th>\n",
              "      <th>petal_newLenght</th>\n",
              "      <th>petal_newWeight</th>\n",
              "    </tr>\n",
              "  </thead>\n",
              "  <tbody>\n",
              "    <tr>\n",
              "      <th>0</th>\n",
              "      <td>0.303704</td>\n",
              "      <td>0.555556</td>\n",
              "      <td>0.225989</td>\n",
              "      <td>0.555556</td>\n",
              "    </tr>\n",
              "    <tr>\n",
              "      <th>1</th>\n",
              "      <td>0.303704</td>\n",
              "      <td>0.833333</td>\n",
              "      <td>0.225989</td>\n",
              "      <td>0.555556</td>\n",
              "    </tr>\n",
              "    <tr>\n",
              "      <th>2</th>\n",
              "      <td>0.303704</td>\n",
              "      <td>0.833333</td>\n",
              "      <td>0.225989</td>\n",
              "      <td>0.555556</td>\n",
              "    </tr>\n",
              "    <tr>\n",
              "      <th>3</th>\n",
              "      <td>0.303704</td>\n",
              "      <td>0.833333</td>\n",
              "      <td>0.225989</td>\n",
              "      <td>0.555556</td>\n",
              "    </tr>\n",
              "    <tr>\n",
              "      <th>4</th>\n",
              "      <td>0.303704</td>\n",
              "      <td>0.555556</td>\n",
              "      <td>0.225989</td>\n",
              "      <td>0.555556</td>\n",
              "    </tr>\n",
              "    <tr>\n",
              "      <th>...</th>\n",
              "      <td>...</td>\n",
              "      <td>...</td>\n",
              "      <td>...</td>\n",
              "      <td>...</td>\n",
              "    </tr>\n",
              "    <tr>\n",
              "      <th>145</th>\n",
              "      <td>0.355556</td>\n",
              "      <td>0.833333</td>\n",
              "      <td>0.275706</td>\n",
              "      <td>0.377778</td>\n",
              "    </tr>\n",
              "    <tr>\n",
              "      <th>146</th>\n",
              "      <td>0.355556</td>\n",
              "      <td>0.211111</td>\n",
              "      <td>0.275706</td>\n",
              "      <td>0.566667</td>\n",
              "    </tr>\n",
              "    <tr>\n",
              "      <th>147</th>\n",
              "      <td>0.355556</td>\n",
              "      <td>0.833333</td>\n",
              "      <td>0.275706</td>\n",
              "      <td>0.377778</td>\n",
              "    </tr>\n",
              "    <tr>\n",
              "      <th>148</th>\n",
              "      <td>0.355556</td>\n",
              "      <td>0.555556</td>\n",
              "      <td>0.275706</td>\n",
              "      <td>0.377778</td>\n",
              "    </tr>\n",
              "    <tr>\n",
              "      <th>149</th>\n",
              "      <td>0.355556</td>\n",
              "      <td>0.833333</td>\n",
              "      <td>0.275706</td>\n",
              "      <td>0.566667</td>\n",
              "    </tr>\n",
              "  </tbody>\n",
              "</table>\n",
              "<p>150 rows × 4 columns</p>\n",
              "</div>"
            ],
            "text/plain": [
              "    sepal_newLenght sepal_newWeight petal_newLenght petal_newWeight\n",
              "0          0.303704        0.555556        0.225989        0.555556\n",
              "1          0.303704        0.833333        0.225989        0.555556\n",
              "2          0.303704        0.833333        0.225989        0.555556\n",
              "3          0.303704        0.833333        0.225989        0.555556\n",
              "4          0.303704        0.555556        0.225989        0.555556\n",
              "..              ...             ...             ...             ...\n",
              "145        0.355556        0.833333        0.275706        0.377778\n",
              "146        0.355556        0.211111        0.275706        0.566667\n",
              "147        0.355556        0.833333        0.275706        0.377778\n",
              "148        0.355556        0.555556        0.275706        0.377778\n",
              "149        0.355556        0.833333        0.275706        0.566667\n",
              "\n",
              "[150 rows x 4 columns]"
            ]
          },
          "metadata": {
            "tags": []
          },
          "execution_count": 105
        }
      ]
    },
    {
      "cell_type": "code",
      "metadata": {
        "id": "fcHdb4-IJs7B"
      },
      "source": [
        "iris = iris.astype(float)"
      ],
      "execution_count": 106,
      "outputs": []
    },
    {
      "cell_type": "code",
      "metadata": {
        "id": "wfphJlGxKY7n"
      },
      "source": [
        "# Divide each column with sum of frequencies of histogram\n",
        "iris['sepal_newLenght'] = iris['sepal_newLenght'].div(sum(count[0]))\n",
        "iris['sepal_newWeight'] = iris['sepal_newWeight'].div(sum(count[1]))\n",
        "iris['petal_newLenght'] = iris['petal_newLenght'].div(sum(count[2]))\n",
        "iris['petal_newWeight'] = iris['petal_newWeight'].div(sum(count[3]))"
      ],
      "execution_count": 107,
      "outputs": []
    },
    {
      "cell_type": "code",
      "metadata": {
        "colab": {
          "base_uri": "https://localhost:8080/",
          "height": 402
        },
        "id": "P3eto5-MPdmD",
        "outputId": "a79a73fd-9ecf-4086-864c-51fcd5facdf2"
      },
      "source": [
        "iris"
      ],
      "execution_count": 108,
      "outputs": [
        {
          "output_type": "execute_result",
          "data": {
            "text/html": [
              "<div>\n",
              "<style scoped>\n",
              "    .dataframe tbody tr th:only-of-type {\n",
              "        vertical-align: middle;\n",
              "    }\n",
              "\n",
              "    .dataframe tbody tr th {\n",
              "        vertical-align: top;\n",
              "    }\n",
              "\n",
              "    .dataframe thead th {\n",
              "        text-align: right;\n",
              "    }\n",
              "</style>\n",
              "<table border=\"1\" class=\"dataframe\">\n",
              "  <thead>\n",
              "    <tr style=\"text-align: right;\">\n",
              "      <th></th>\n",
              "      <th>sepal_newLenght</th>\n",
              "      <th>sepal_newWeight</th>\n",
              "      <th>petal_newLenght</th>\n",
              "      <th>petal_newWeight</th>\n",
              "    </tr>\n",
              "  </thead>\n",
              "  <tbody>\n",
              "    <tr>\n",
              "      <th>0</th>\n",
              "      <td>0.273333</td>\n",
              "      <td>0.333333</td>\n",
              "      <td>0.333333</td>\n",
              "      <td>0.333333</td>\n",
              "    </tr>\n",
              "    <tr>\n",
              "      <th>1</th>\n",
              "      <td>0.273333</td>\n",
              "      <td>0.500000</td>\n",
              "      <td>0.333333</td>\n",
              "      <td>0.333333</td>\n",
              "    </tr>\n",
              "    <tr>\n",
              "      <th>2</th>\n",
              "      <td>0.273333</td>\n",
              "      <td>0.500000</td>\n",
              "      <td>0.333333</td>\n",
              "      <td>0.333333</td>\n",
              "    </tr>\n",
              "    <tr>\n",
              "      <th>3</th>\n",
              "      <td>0.273333</td>\n",
              "      <td>0.500000</td>\n",
              "      <td>0.333333</td>\n",
              "      <td>0.333333</td>\n",
              "    </tr>\n",
              "    <tr>\n",
              "      <th>4</th>\n",
              "      <td>0.273333</td>\n",
              "      <td>0.333333</td>\n",
              "      <td>0.333333</td>\n",
              "      <td>0.333333</td>\n",
              "    </tr>\n",
              "    <tr>\n",
              "      <th>...</th>\n",
              "      <td>...</td>\n",
              "      <td>...</td>\n",
              "      <td>...</td>\n",
              "      <td>...</td>\n",
              "    </tr>\n",
              "    <tr>\n",
              "      <th>145</th>\n",
              "      <td>0.320000</td>\n",
              "      <td>0.500000</td>\n",
              "      <td>0.406667</td>\n",
              "      <td>0.226667</td>\n",
              "    </tr>\n",
              "    <tr>\n",
              "      <th>146</th>\n",
              "      <td>0.320000</td>\n",
              "      <td>0.126667</td>\n",
              "      <td>0.406667</td>\n",
              "      <td>0.340000</td>\n",
              "    </tr>\n",
              "    <tr>\n",
              "      <th>147</th>\n",
              "      <td>0.320000</td>\n",
              "      <td>0.500000</td>\n",
              "      <td>0.406667</td>\n",
              "      <td>0.226667</td>\n",
              "    </tr>\n",
              "    <tr>\n",
              "      <th>148</th>\n",
              "      <td>0.320000</td>\n",
              "      <td>0.333333</td>\n",
              "      <td>0.406667</td>\n",
              "      <td>0.226667</td>\n",
              "    </tr>\n",
              "    <tr>\n",
              "      <th>149</th>\n",
              "      <td>0.320000</td>\n",
              "      <td>0.500000</td>\n",
              "      <td>0.406667</td>\n",
              "      <td>0.340000</td>\n",
              "    </tr>\n",
              "  </tbody>\n",
              "</table>\n",
              "<p>150 rows × 4 columns</p>\n",
              "</div>"
            ],
            "text/plain": [
              "     sepal_newLenght  sepal_newWeight  petal_newLenght  petal_newWeight\n",
              "0           0.273333         0.333333         0.333333         0.333333\n",
              "1           0.273333         0.500000         0.333333         0.333333\n",
              "2           0.273333         0.500000         0.333333         0.333333\n",
              "3           0.273333         0.500000         0.333333         0.333333\n",
              "4           0.273333         0.333333         0.333333         0.333333\n",
              "..               ...              ...              ...              ...\n",
              "145         0.320000         0.500000         0.406667         0.226667\n",
              "146         0.320000         0.126667         0.406667         0.340000\n",
              "147         0.320000         0.500000         0.406667         0.226667\n",
              "148         0.320000         0.333333         0.406667         0.226667\n",
              "149         0.320000         0.500000         0.406667         0.340000\n",
              "\n",
              "[150 rows x 4 columns]"
            ]
          },
          "metadata": {
            "tags": []
          },
          "execution_count": 108
        }
      ]
    },
    {
      "cell_type": "code",
      "metadata": {
        "id": "UzAz9iCdhqat"
      },
      "source": [
        "iris = 1/iris"
      ],
      "execution_count": 109,
      "outputs": []
    },
    {
      "cell_type": "code",
      "metadata": {
        "colab": {
          "base_uri": "https://localhost:8080/",
          "height": 402
        },
        "id": "Ec9Z2UxiiCtm",
        "outputId": "3db0feda-a64f-44ea-e42d-ba202ce26388"
      },
      "source": [
        "iris"
      ],
      "execution_count": 110,
      "outputs": [
        {
          "output_type": "execute_result",
          "data": {
            "text/html": [
              "<div>\n",
              "<style scoped>\n",
              "    .dataframe tbody tr th:only-of-type {\n",
              "        vertical-align: middle;\n",
              "    }\n",
              "\n",
              "    .dataframe tbody tr th {\n",
              "        vertical-align: top;\n",
              "    }\n",
              "\n",
              "    .dataframe thead th {\n",
              "        text-align: right;\n",
              "    }\n",
              "</style>\n",
              "<table border=\"1\" class=\"dataframe\">\n",
              "  <thead>\n",
              "    <tr style=\"text-align: right;\">\n",
              "      <th></th>\n",
              "      <th>sepal_newLenght</th>\n",
              "      <th>sepal_newWeight</th>\n",
              "      <th>petal_newLenght</th>\n",
              "      <th>petal_newWeight</th>\n",
              "    </tr>\n",
              "  </thead>\n",
              "  <tbody>\n",
              "    <tr>\n",
              "      <th>0</th>\n",
              "      <td>3.658537</td>\n",
              "      <td>3.000000</td>\n",
              "      <td>3.000000</td>\n",
              "      <td>3.000000</td>\n",
              "    </tr>\n",
              "    <tr>\n",
              "      <th>1</th>\n",
              "      <td>3.658537</td>\n",
              "      <td>2.000000</td>\n",
              "      <td>3.000000</td>\n",
              "      <td>3.000000</td>\n",
              "    </tr>\n",
              "    <tr>\n",
              "      <th>2</th>\n",
              "      <td>3.658537</td>\n",
              "      <td>2.000000</td>\n",
              "      <td>3.000000</td>\n",
              "      <td>3.000000</td>\n",
              "    </tr>\n",
              "    <tr>\n",
              "      <th>3</th>\n",
              "      <td>3.658537</td>\n",
              "      <td>2.000000</td>\n",
              "      <td>3.000000</td>\n",
              "      <td>3.000000</td>\n",
              "    </tr>\n",
              "    <tr>\n",
              "      <th>4</th>\n",
              "      <td>3.658537</td>\n",
              "      <td>3.000000</td>\n",
              "      <td>3.000000</td>\n",
              "      <td>3.000000</td>\n",
              "    </tr>\n",
              "    <tr>\n",
              "      <th>...</th>\n",
              "      <td>...</td>\n",
              "      <td>...</td>\n",
              "      <td>...</td>\n",
              "      <td>...</td>\n",
              "    </tr>\n",
              "    <tr>\n",
              "      <th>145</th>\n",
              "      <td>3.125000</td>\n",
              "      <td>2.000000</td>\n",
              "      <td>2.459016</td>\n",
              "      <td>4.411765</td>\n",
              "    </tr>\n",
              "    <tr>\n",
              "      <th>146</th>\n",
              "      <td>3.125000</td>\n",
              "      <td>7.894737</td>\n",
              "      <td>2.459016</td>\n",
              "      <td>2.941176</td>\n",
              "    </tr>\n",
              "    <tr>\n",
              "      <th>147</th>\n",
              "      <td>3.125000</td>\n",
              "      <td>2.000000</td>\n",
              "      <td>2.459016</td>\n",
              "      <td>4.411765</td>\n",
              "    </tr>\n",
              "    <tr>\n",
              "      <th>148</th>\n",
              "      <td>3.125000</td>\n",
              "      <td>3.000000</td>\n",
              "      <td>2.459016</td>\n",
              "      <td>4.411765</td>\n",
              "    </tr>\n",
              "    <tr>\n",
              "      <th>149</th>\n",
              "      <td>3.125000</td>\n",
              "      <td>2.000000</td>\n",
              "      <td>2.459016</td>\n",
              "      <td>2.941176</td>\n",
              "    </tr>\n",
              "  </tbody>\n",
              "</table>\n",
              "<p>150 rows × 4 columns</p>\n",
              "</div>"
            ],
            "text/plain": [
              "     sepal_newLenght  sepal_newWeight  petal_newLenght  petal_newWeight\n",
              "0           3.658537         3.000000         3.000000         3.000000\n",
              "1           3.658537         2.000000         3.000000         3.000000\n",
              "2           3.658537         2.000000         3.000000         3.000000\n",
              "3           3.658537         2.000000         3.000000         3.000000\n",
              "4           3.658537         3.000000         3.000000         3.000000\n",
              "..               ...              ...              ...              ...\n",
              "145         3.125000         2.000000         2.459016         4.411765\n",
              "146         3.125000         7.894737         2.459016         2.941176\n",
              "147         3.125000         2.000000         2.459016         4.411765\n",
              "148         3.125000         3.000000         2.459016         4.411765\n",
              "149         3.125000         2.000000         2.459016         2.941176\n",
              "\n",
              "[150 rows x 4 columns]"
            ]
          },
          "metadata": {
            "tags": []
          },
          "execution_count": 110
        }
      ]
    },
    {
      "cell_type": "code",
      "metadata": {
        "id": "UwixOOmViA0C"
      },
      "source": [
        "iris = np.log10(iris)"
      ],
      "execution_count": 111,
      "outputs": []
    },
    {
      "cell_type": "code",
      "metadata": {
        "colab": {
          "base_uri": "https://localhost:8080/",
          "height": 402
        },
        "id": "WWcuuYzAiJYP",
        "outputId": "b0cf23c8-ffa3-4694-92f4-2cbeb137fce1"
      },
      "source": [
        "np.log10(iris)"
      ],
      "execution_count": 112,
      "outputs": [
        {
          "output_type": "execute_result",
          "data": {
            "text/html": [
              "<div>\n",
              "<style scoped>\n",
              "    .dataframe tbody tr th:only-of-type {\n",
              "        vertical-align: middle;\n",
              "    }\n",
              "\n",
              "    .dataframe tbody tr th {\n",
              "        vertical-align: top;\n",
              "    }\n",
              "\n",
              "    .dataframe thead th {\n",
              "        text-align: right;\n",
              "    }\n",
              "</style>\n",
              "<table border=\"1\" class=\"dataframe\">\n",
              "  <thead>\n",
              "    <tr style=\"text-align: right;\">\n",
              "      <th></th>\n",
              "      <th>sepal_newLenght</th>\n",
              "      <th>sepal_newWeight</th>\n",
              "      <th>petal_newLenght</th>\n",
              "      <th>petal_newWeight</th>\n",
              "    </tr>\n",
              "  </thead>\n",
              "  <tbody>\n",
              "    <tr>\n",
              "      <th>0</th>\n",
              "      <td>-0.249255</td>\n",
              "      <td>-0.321371</td>\n",
              "      <td>-0.321371</td>\n",
              "      <td>-0.321371</td>\n",
              "    </tr>\n",
              "    <tr>\n",
              "      <th>1</th>\n",
              "      <td>-0.249255</td>\n",
              "      <td>-0.521390</td>\n",
              "      <td>-0.321371</td>\n",
              "      <td>-0.321371</td>\n",
              "    </tr>\n",
              "    <tr>\n",
              "      <th>2</th>\n",
              "      <td>-0.249255</td>\n",
              "      <td>-0.521390</td>\n",
              "      <td>-0.321371</td>\n",
              "      <td>-0.321371</td>\n",
              "    </tr>\n",
              "    <tr>\n",
              "      <th>3</th>\n",
              "      <td>-0.249255</td>\n",
              "      <td>-0.521390</td>\n",
              "      <td>-0.321371</td>\n",
              "      <td>-0.321371</td>\n",
              "    </tr>\n",
              "    <tr>\n",
              "      <th>4</th>\n",
              "      <td>-0.249255</td>\n",
              "      <td>-0.321371</td>\n",
              "      <td>-0.321371</td>\n",
              "      <td>-0.321371</td>\n",
              "    </tr>\n",
              "    <tr>\n",
              "      <th>...</th>\n",
              "      <td>...</td>\n",
              "      <td>...</td>\n",
              "      <td>...</td>\n",
              "      <td>...</td>\n",
              "    </tr>\n",
              "    <tr>\n",
              "      <th>145</th>\n",
              "      <td>-0.305526</td>\n",
              "      <td>-0.521390</td>\n",
              "      <td>-0.408088</td>\n",
              "      <td>-0.190701</td>\n",
              "    </tr>\n",
              "    <tr>\n",
              "      <th>146</th>\n",
              "      <td>-0.305526</td>\n",
              "      <td>-0.047044</td>\n",
              "      <td>-0.408088</td>\n",
              "      <td>-0.329271</td>\n",
              "    </tr>\n",
              "    <tr>\n",
              "      <th>147</th>\n",
              "      <td>-0.305526</td>\n",
              "      <td>-0.521390</td>\n",
              "      <td>-0.408088</td>\n",
              "      <td>-0.190701</td>\n",
              "    </tr>\n",
              "    <tr>\n",
              "      <th>148</th>\n",
              "      <td>-0.305526</td>\n",
              "      <td>-0.321371</td>\n",
              "      <td>-0.408088</td>\n",
              "      <td>-0.190701</td>\n",
              "    </tr>\n",
              "    <tr>\n",
              "      <th>149</th>\n",
              "      <td>-0.305526</td>\n",
              "      <td>-0.521390</td>\n",
              "      <td>-0.408088</td>\n",
              "      <td>-0.329271</td>\n",
              "    </tr>\n",
              "  </tbody>\n",
              "</table>\n",
              "<p>150 rows × 4 columns</p>\n",
              "</div>"
            ],
            "text/plain": [
              "     sepal_newLenght  sepal_newWeight  petal_newLenght  petal_newWeight\n",
              "0          -0.249255        -0.321371        -0.321371        -0.321371\n",
              "1          -0.249255        -0.521390        -0.321371        -0.321371\n",
              "2          -0.249255        -0.521390        -0.321371        -0.321371\n",
              "3          -0.249255        -0.521390        -0.321371        -0.321371\n",
              "4          -0.249255        -0.321371        -0.321371        -0.321371\n",
              "..               ...              ...              ...              ...\n",
              "145        -0.305526        -0.521390        -0.408088        -0.190701\n",
              "146        -0.305526        -0.047044        -0.408088        -0.329271\n",
              "147        -0.305526        -0.521390        -0.408088        -0.190701\n",
              "148        -0.305526        -0.321371        -0.408088        -0.190701\n",
              "149        -0.305526        -0.521390        -0.408088        -0.329271\n",
              "\n",
              "[150 rows x 4 columns]"
            ]
          },
          "metadata": {
            "tags": []
          },
          "execution_count": 112
        }
      ]
    },
    {
      "cell_type": "code",
      "metadata": {
        "id": "-Tsej61tiM3r"
      },
      "source": [
        "# Sum of each row\n",
        "iris['ans'] = iris.sum(axis=1)"
      ],
      "execution_count": 113,
      "outputs": []
    },
    {
      "cell_type": "code",
      "metadata": {
        "colab": {
          "base_uri": "https://localhost:8080/",
          "height": 402
        },
        "id": "P8lQ_oq5iVCJ",
        "outputId": "5028295b-8c44-4f3c-e33c-328704a808e6"
      },
      "source": [
        "iris"
      ],
      "execution_count": 114,
      "outputs": [
        {
          "output_type": "execute_result",
          "data": {
            "text/html": [
              "<div>\n",
              "<style scoped>\n",
              "    .dataframe tbody tr th:only-of-type {\n",
              "        vertical-align: middle;\n",
              "    }\n",
              "\n",
              "    .dataframe tbody tr th {\n",
              "        vertical-align: top;\n",
              "    }\n",
              "\n",
              "    .dataframe thead th {\n",
              "        text-align: right;\n",
              "    }\n",
              "</style>\n",
              "<table border=\"1\" class=\"dataframe\">\n",
              "  <thead>\n",
              "    <tr style=\"text-align: right;\">\n",
              "      <th></th>\n",
              "      <th>sepal_newLenght</th>\n",
              "      <th>sepal_newWeight</th>\n",
              "      <th>petal_newLenght</th>\n",
              "      <th>petal_newWeight</th>\n",
              "      <th>ans</th>\n",
              "    </tr>\n",
              "  </thead>\n",
              "  <tbody>\n",
              "    <tr>\n",
              "      <th>0</th>\n",
              "      <td>0.563307</td>\n",
              "      <td>0.477121</td>\n",
              "      <td>0.477121</td>\n",
              "      <td>0.477121</td>\n",
              "      <td>1.994671</td>\n",
              "    </tr>\n",
              "    <tr>\n",
              "      <th>1</th>\n",
              "      <td>0.563307</td>\n",
              "      <td>0.301030</td>\n",
              "      <td>0.477121</td>\n",
              "      <td>0.477121</td>\n",
              "      <td>1.818580</td>\n",
              "    </tr>\n",
              "    <tr>\n",
              "      <th>2</th>\n",
              "      <td>0.563307</td>\n",
              "      <td>0.301030</td>\n",
              "      <td>0.477121</td>\n",
              "      <td>0.477121</td>\n",
              "      <td>1.818580</td>\n",
              "    </tr>\n",
              "    <tr>\n",
              "      <th>3</th>\n",
              "      <td>0.563307</td>\n",
              "      <td>0.301030</td>\n",
              "      <td>0.477121</td>\n",
              "      <td>0.477121</td>\n",
              "      <td>1.818580</td>\n",
              "    </tr>\n",
              "    <tr>\n",
              "      <th>4</th>\n",
              "      <td>0.563307</td>\n",
              "      <td>0.477121</td>\n",
              "      <td>0.477121</td>\n",
              "      <td>0.477121</td>\n",
              "      <td>1.994671</td>\n",
              "    </tr>\n",
              "    <tr>\n",
              "      <th>...</th>\n",
              "      <td>...</td>\n",
              "      <td>...</td>\n",
              "      <td>...</td>\n",
              "      <td>...</td>\n",
              "      <td>...</td>\n",
              "    </tr>\n",
              "    <tr>\n",
              "      <th>145</th>\n",
              "      <td>0.494850</td>\n",
              "      <td>0.301030</td>\n",
              "      <td>0.390761</td>\n",
              "      <td>0.644612</td>\n",
              "      <td>1.831254</td>\n",
              "    </tr>\n",
              "    <tr>\n",
              "      <th>146</th>\n",
              "      <td>0.494850</td>\n",
              "      <td>0.897338</td>\n",
              "      <td>0.390761</td>\n",
              "      <td>0.468521</td>\n",
              "      <td>2.251470</td>\n",
              "    </tr>\n",
              "    <tr>\n",
              "      <th>147</th>\n",
              "      <td>0.494850</td>\n",
              "      <td>0.301030</td>\n",
              "      <td>0.390761</td>\n",
              "      <td>0.644612</td>\n",
              "      <td>1.831254</td>\n",
              "    </tr>\n",
              "    <tr>\n",
              "      <th>148</th>\n",
              "      <td>0.494850</td>\n",
              "      <td>0.477121</td>\n",
              "      <td>0.390761</td>\n",
              "      <td>0.644612</td>\n",
              "      <td>2.007345</td>\n",
              "    </tr>\n",
              "    <tr>\n",
              "      <th>149</th>\n",
              "      <td>0.494850</td>\n",
              "      <td>0.301030</td>\n",
              "      <td>0.390761</td>\n",
              "      <td>0.468521</td>\n",
              "      <td>1.655163</td>\n",
              "    </tr>\n",
              "  </tbody>\n",
              "</table>\n",
              "<p>150 rows × 5 columns</p>\n",
              "</div>"
            ],
            "text/plain": [
              "     sepal_newLenght  sepal_newWeight  ...  petal_newWeight       ans\n",
              "0           0.563307         0.477121  ...         0.477121  1.994671\n",
              "1           0.563307         0.301030  ...         0.477121  1.818580\n",
              "2           0.563307         0.301030  ...         0.477121  1.818580\n",
              "3           0.563307         0.301030  ...         0.477121  1.818580\n",
              "4           0.563307         0.477121  ...         0.477121  1.994671\n",
              "..               ...              ...  ...              ...       ...\n",
              "145         0.494850         0.301030  ...         0.644612  1.831254\n",
              "146         0.494850         0.897338  ...         0.468521  2.251470\n",
              "147         0.494850         0.301030  ...         0.644612  1.831254\n",
              "148         0.494850         0.477121  ...         0.644612  2.007345\n",
              "149         0.494850         0.301030  ...         0.468521  1.655163\n",
              "\n",
              "[150 rows x 5 columns]"
            ]
          },
          "metadata": {
            "tags": []
          },
          "execution_count": 114
        }
      ]
    },
    {
      "cell_type": "code",
      "metadata": {
        "colab": {
          "base_uri": "https://localhost:8080/",
          "height": 282
        },
        "id": "jDsD2IgMPMyO",
        "outputId": "633f1c85-0107-4066-daab-a557fe3d871e"
      },
      "source": [
        "iris.boxplot(column=['ans'])"
      ],
      "execution_count": 116,
      "outputs": [
        {
          "output_type": "execute_result",
          "data": {
            "text/plain": [
              "<matplotlib.axes._subplots.AxesSubplot at 0x7f999b7dbc10>"
            ]
          },
          "metadata": {
            "tags": []
          },
          "execution_count": 116
        },
        {
          "output_type": "display_data",
          "data": {
            "image/png": "[encoded data removed]",
            "text/plain": [
              "<Figure size 432x288 with 1 Axes>"
            ]
          },
          "metadata": {
            "tags": [],
            "needs_background": "light"
          }
        }
      ]
    }
  ]
}